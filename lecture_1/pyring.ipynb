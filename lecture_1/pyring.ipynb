{
 "cells": [
  {
   "cell_type": "markdown",
   "metadata": {},
   "source": [
    "# LEARNING PYTHON WITH VK"
   ]
  },
  {
   "cell_type": "markdown",
   "metadata": {},
   "source": [
    "## LESSON 1 OVERVIEW"
   ]
  },
  {
   "cell_type": "markdown",
   "metadata": {
    "collapsed": true
   },
   "source": [
    "- Will learn: __python 3.6__\n",
    "- Will use: __ubuntu 16.04 + zsh + oh-my-zsh + pycharm + PostgreSQL + git + github __\n",
    "- Will read: __Mark Lutz - Learning python__ (http://stock.ethop.org/pdf/python/Learning%20Python,%205th%20Edition.pdf)\n",
    "\n",
    "- <span style=\"color:red\">__*PEP8*__</span> !!!\n"
   ]
  },
  {
   "cell_type": "markdown",
   "metadata": {},
   "source": [
    "### Why python?"
   ]
  },
  {
   "cell_type": "markdown",
   "metadata": {},
   "source": [
    "- *Software quality* (readable, software reuse, oop + functional programming)\n",
    "- *Developer productivity*\n",
    "- *Portability*\n",
    "- *Standart library, 3d party libraries, big mature community*\n",
    "- *Component integration*\n",
    "- *Enjoyment*"
   ]
  },
  {
   "cell_type": "markdown",
   "metadata": {},
   "source": [
    "### Who use python?"
   ]
  },
  {
   "cell_type": "markdown",
   "metadata": {},
   "source": [
    "- Google makes extensive use of Python in its web search systems.\n",
    "- YouTube video sharing service is largely written in Python.\n",
    "- the Dropbox storage service codes both its server and desktop client software primarily in Python.\n",
    "- The Raspberry Pi singleboard computer promotes Python as its educational language.\n",
    "- EVE Online a massively multiplayer online game (MMOG) by CCP Games, uses Python broadly.\n",
    "- BitTorrent peer-to-peer  file  sharing  system  began  its  life  as  a\n",
    "- Pixar and others use Python in the production of ani- mated movies.\n",
    "- nESRI uses Python as an end-user customization tool for its popular GIS mapping products.\n",
    "- The NSA uses Python for cryptography and intelligence analysis.\n",
    "- iRobot uses Python to develop commercial and military robotic devices.\n",
    "- Yandex most of internal sevices are written in Python"
   ]
  },
  {
   "cell_type": "markdown",
   "metadata": {},
   "source": [
    "<span style=\"color:red\">__*NOTE*__</span>: success stories (http://www.python.org/about/success), application domains (http://www.python.org/about/apps), user quotes (http://www.python.org/about/quotes), wikipedia page (http://en.wikipedia.org/wiki/List_of_Python_software)"
   ]
  },
  {
   "cell_type": "markdown",
   "metadata": {},
   "source": [
    "### What to do with python?"
   ]
  },
  {
   "cell_type": "markdown",
   "metadata": {},
   "source": [
    "- Systems Programming \n",
    "- GUIs (PyQt, WPF)\n",
    "- Internet Scripting \n",
    "- Web backend (flask, django)\n",
    "- Component integration\n",
    "- Data science (numpy, pandas, TensorFlow, matplotlib, scikit)\n",
    "- Mobile application (Kivy)\n",
    "- more ML:LP (page. 14)"
   ]
  },
  {
   "cell_type": "markdown",
   "metadata": {},
   "source": [
    "### Django projects\n",
    "- Instagram\n",
    "- Bitbucket\n",
    "- Prezi\n",
    "- Spotify\n",
    "- Disqus\n",
    "- Pinterest"
   ]
  },
  {
   "cell_type": "markdown",
   "metadata": {},
   "source": [
    "### What is the python?\n",
    "- interpreted language\n",
    "- whitespace indentation to delimit code blocks\n",
    "- strong dynamic type system\n",
    "- automatic memory management\n",
    "- supports multiple programming paradigms, including object-oriented, imperative, functional programming, and procedural styles\n",
    "\n",
    "<span style=\"color:red\">__*NOTE*__</span> \n",
    "\n",
    "- GIL\n",
    "- Garbage collector (count references)\n",
    "- Duck typing"
   ]
  },
  {
   "cell_type": "markdown",
   "metadata": {},
   "source": [
    "### Who did it?\n"
   ]
  },
  {
   "cell_type": "code",
   "execution_count": 5,
   "metadata": {},
   "outputs": [
    {
     "data": {
      "image/jpeg": "[encoded data removed]",
      "text/plain": [
       "<IPython.core.display.Image object>"
      ]
     },
     "execution_count": 5,
     "metadata": {},
     "output_type": "execute_result"
    }
   ],
   "source": [
    "import requests\n",
    "response = requests.get('https://upload.wikimedia.org/wikipedia/commons/thumb/6/66/Guido_van_Rossum_OSCON_2006.jpg/266px-Guido_van_Rossum_OSCON_2006.jpg')\n",
    "\n",
    "from IPython.display import Image\n",
    "Image(response.content)"
   ]
  },
  {
   "cell_type": "markdown",
   "metadata": {},
   "source": [
    "### When and Who? \n",
    "1991, Guido van Rossum\n",
    "### Actual versions\n",
    " \t\n",
    "- 3.6.1 / 21 March 2017\n",
    "- 2.7.13 / 17 December 2016"
   ]
  },
  {
   "cell_type": "markdown",
   "metadata": {},
   "source": [
    "### How python running\n",
    "\n",
    "source code (.py files) -> bytecode (.pyc, \\__pycache\\__) -> PVM (python virtual machine)\n",
    "\n",
    "- Default implemetation = CPython\n",
    "- Others = Jython IronPython Stackless PyPy\n"
   ]
  },
  {
   "cell_type": "markdown",
   "metadata": {},
   "source": [
    "<span style=\"color:red\">__*NOTE*__</span> \n",
    "- we will execute our python code in virtualenv\n",
    "- IPython\n",
    "- Programm and interpretator modes"
   ]
  },
  {
   "cell_type": "markdown",
   "metadata": {},
   "source": [
    "### Modules and packages"
   ]
  },
  {
   "cell_type": "code",
   "execution_count": 6,
   "metadata": {},
   "outputs": [
    {
     "data": {
      "text/plain": [
       "['',\n",
       " '/usr/lib/python35.zip',\n",
       " '/usr/lib/python3.5',\n",
       " '/usr/lib/python3.5/plat-x86_64-linux-gnu',\n",
       " '/usr/lib/python3.5/lib-dynload',\n",
       " '/home/vk/.local/lib/python3.5/site-packages',\n",
       " '/usr/local/lib/python3.5/dist-packages',\n",
       " '/usr/lib/python3/dist-packages',\n",
       " '/usr/local/lib/python3.5/dist-packages/IPython/extensions',\n",
       " '/home/vk/.ipython']"
      ]
     },
     "execution_count": 6,
     "metadata": {},
     "output_type": "execute_result"
    }
   ],
   "source": [
    "import sys\n",
    "sys.path"
   ]
  },
  {
   "cell_type": "code",
   "execution_count": 7,
   "metadata": {
    "collapsed": true
   },
   "outputs": [],
   "source": [
    "from collections import namedtuple as nt"
   ]
  },
  {
   "cell_type": "code",
   "execution_count": 10,
   "metadata": {},
   "outputs": [
    {
     "data": {
      "text/plain": [
       "['ArithmeticError',\n",
       " 'AssertionError',\n",
       " 'AttributeError',\n",
       " 'BaseException',\n",
       " 'BlockingIOError',\n",
       " 'BrokenPipeError',\n",
       " 'BufferError',\n",
       " 'BytesWarning',\n",
       " 'ChildProcessError',\n",
       " 'ConnectionAbortedError',\n",
       " 'ConnectionError',\n",
       " 'ConnectionRefusedError',\n",
       " 'ConnectionResetError',\n",
       " 'DeprecationWarning',\n",
       " 'EOFError',\n",
       " 'Ellipsis',\n",
       " 'EnvironmentError',\n",
       " 'Exception',\n",
       " 'False',\n",
       " 'FileExistsError',\n",
       " 'FileNotFoundError',\n",
       " 'FloatingPointError',\n",
       " 'FutureWarning',\n",
       " 'GeneratorExit',\n",
       " 'IOError',\n",
       " 'ImportError',\n",
       " 'ImportWarning',\n",
       " 'IndentationError',\n",
       " 'IndexError',\n",
       " 'InterruptedError',\n",
       " 'IsADirectoryError',\n",
       " 'KeyError',\n",
       " 'KeyboardInterrupt',\n",
       " 'LookupError',\n",
       " 'MemoryError',\n",
       " 'NameError',\n",
       " 'None',\n",
       " 'NotADirectoryError',\n",
       " 'NotImplemented',\n",
       " 'NotImplementedError',\n",
       " 'OSError',\n",
       " 'OverflowError',\n",
       " 'PendingDeprecationWarning',\n",
       " 'PermissionError',\n",
       " 'ProcessLookupError',\n",
       " 'RecursionError',\n",
       " 'ReferenceError',\n",
       " 'ResourceWarning',\n",
       " 'RuntimeError',\n",
       " 'RuntimeWarning',\n",
       " 'StopAsyncIteration',\n",
       " 'StopIteration',\n",
       " 'SyntaxError',\n",
       " 'SyntaxWarning',\n",
       " 'SystemError',\n",
       " 'SystemExit',\n",
       " 'TabError',\n",
       " 'TimeoutError',\n",
       " 'True',\n",
       " 'TypeError',\n",
       " 'UnboundLocalError',\n",
       " 'UnicodeDecodeError',\n",
       " 'UnicodeEncodeError',\n",
       " 'UnicodeError',\n",
       " 'UnicodeTranslateError',\n",
       " 'UnicodeWarning',\n",
       " 'UserWarning',\n",
       " 'ValueError',\n",
       " 'Warning',\n",
       " 'ZeroDivisionError',\n",
       " '__IPYTHON__',\n",
       " '__build_class__',\n",
       " '__debug__',\n",
       " '__doc__',\n",
       " '__import__',\n",
       " '__loader__',\n",
       " '__name__',\n",
       " '__package__',\n",
       " '__spec__',\n",
       " 'abs',\n",
       " 'all',\n",
       " 'any',\n",
       " 'ascii',\n",
       " 'bin',\n",
       " 'bool',\n",
       " 'bytearray',\n",
       " 'bytes',\n",
       " 'callable',\n",
       " 'chr',\n",
       " 'classmethod',\n",
       " 'compile',\n",
       " 'complex',\n",
       " 'copyright',\n",
       " 'credits',\n",
       " 'delattr',\n",
       " 'dict',\n",
       " 'dir',\n",
       " 'divmod',\n",
       " 'dreload',\n",
       " 'enumerate',\n",
       " 'eval',\n",
       " 'exec',\n",
       " 'filter',\n",
       " 'float',\n",
       " 'format',\n",
       " 'frozenset',\n",
       " 'get_ipython',\n",
       " 'getattr',\n",
       " 'globals',\n",
       " 'hasattr',\n",
       " 'hash',\n",
       " 'help',\n",
       " 'hex',\n",
       " 'id',\n",
       " 'input',\n",
       " 'int',\n",
       " 'isinstance',\n",
       " 'issubclass',\n",
       " 'iter',\n",
       " 'len',\n",
       " 'license',\n",
       " 'list',\n",
       " 'locals',\n",
       " 'map',\n",
       " 'max',\n",
       " 'memoryview',\n",
       " 'min',\n",
       " 'next',\n",
       " 'object',\n",
       " 'oct',\n",
       " 'open',\n",
       " 'ord',\n",
       " 'pow',\n",
       " 'print',\n",
       " 'property',\n",
       " 'range',\n",
       " 'repr',\n",
       " 'reversed',\n",
       " 'round',\n",
       " 'set',\n",
       " 'setattr',\n",
       " 'slice',\n",
       " 'sorted',\n",
       " 'staticmethod',\n",
       " 'str',\n",
       " 'sum',\n",
       " 'super',\n",
       " 'tuple',\n",
       " 'type',\n",
       " 'vars',\n",
       " 'zip']"
      ]
     },
     "execution_count": 10,
     "metadata": {},
     "output_type": "execute_result"
    }
   ],
   "source": [
    "import builtins\n",
    "dir(builtins)"
   ]
  },
  {
   "cell_type": "markdown",
   "metadata": {},
   "source": [
    "<span style=\"color:red\">__*NOTE*__</span> \n",
    "- Your own package should have \\__init\\__.py file"
   ]
  },
  {
   "cell_type": "code",
   "execution_count": 15,
   "metadata": {},
   "outputs": [],
   "source": [
    "# use conditional for avoid code execution, when you import module\n",
    "\n",
    "def smth():\n",
    "    pass\n",
    "\n",
    "if __name__ == '__main__':\n",
    "    smth()"
   ]
  },
  {
   "cell_type": "markdown",
   "metadata": {},
   "source": [
    "### Package manager\n",
    "- pip3"
   ]
  },
  {
   "cell_type": "markdown",
   "metadata": {},
   "source": [
    "### HOMETASK\n",
    "- install enviroment\n",
    "- learn pycharm hotkeys:\n",
    "    - find class\n",
    "    - find file\n",
    "    - find Symba name\n",
    "    - find in path\n",
    "    - find in file\n",
    "    - replace in file\n",
    "    - replace in path\n",
    "    - back to cursor\n",
    "    - find usage of class/function\n",
    "    - close tab\n",
    "    - comment/uncomment\n",
    "    - add/remove indent\n",
    "    - go to definition\n",
    "    - recent files\n",
    "    - highlight expression\n",
    "- try to use ipython\n",
    "    "
   ]
  }
 ],
 "metadata": {
  "kernelspec": {
   "display_name": "Python 3",
   "language": "python",
   "name": "python3"
  },
  "language_info": {
   "codemirror_mode": {
    "name": "ipython",
    "version": 3
   },
   "file_extension": ".py",
   "mimetype": "text/x-python",
   "name": "python",
   "nbconvert_exporter": "python",
   "pygments_lexer": "ipython3",
   "version": "3.5.2"
  }
 },
 "nbformat": 4,
 "nbformat_minor": 2
}
